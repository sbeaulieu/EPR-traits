{
 "cells": [
  {
   "cell_type": "code",
   "execution_count": 97,
   "metadata": {},
   "outputs": [],
   "source": [
    "# little Python script to extract the rows in a data table that have partial strings in one of the columns\n",
    "# I am using this to find species reported in the sFDvent database for the East Pacific Rise and neighboring regions\n",
    "# Stace Beaulieu (stace@whoi.edu) 2019-10-07\n",
    "\n",
    "import pandas\n",
    "# note I edited the column headers in Excel file that Abbie provided to remove the special characters and spaces\n",
    "abbie = pandas.read_excel('Table_S4.4_CleanedRaw_SBeaulieu.xlsx')\n",
    "# original file has 261 species\n",
    "\n",
    "# adapt this:\n",
    "# https://stackoverflow.com/questions/44933071/select-rows-by-partial-string-with-query-with-pandas/53344073#53344073\n",
    "# print(df.query('name.str.contains(\"lu\")', engine='python').head())\n",
    "\n",
    "EPRGalGuay = abbie.query('Location.str.contains(\"EPR|Galapagos|East Pacific Rise|Guaymas|Costa Rica|Gulf of California\")', engine='python')\n",
    "# after initial exploration I added \"Costa Rica\" and \"Gulf of California\" as search terms, but not \"Eastern Pacific\" or \"E Pacific\"\n",
    "# note I did not use \"NE Pacific\" because it appeared to refer mainly to Juan de Fuca\n",
    "EPRGalGuay.to_csv(r'EPRGalGuay.csv')\n",
    "# subset with these strings has 165 species\n",
    "\n",
    "# next figure out the subset that DOES NOT have those strings to see if I missed any important\n",
    "# and this should have 261 - 165 = 96 species\n",
    "# I couldn't get this to work:\n",
    "# https://stackoverflow.com/questions/21055068/reversal-of-string-contains-in-python-pandas\n",
    "# so instead used a left-join and visually inspected in EXCEL:\n",
    "# https://stackoverflow.com/questions/28901683/pandas-get-rows-which-are-not-in-other-dataframe\n",
    "\n",
    "df_all = abbie.merge(EPRGalGuay.drop_duplicates(), on=['Taxon','Location'], \n",
    "                   how='left', indicator=True)\n",
    "df_all.to_csv(r'left-join-abbie-EPRGalGuay.csv')"
   ]
  }
 ],
 "metadata": {
  "kernelspec": {
   "display_name": "Python 3",
   "language": "python",
   "name": "python3"
  },
  "language_info": {
   "codemirror_mode": {
    "name": "ipython",
    "version": 3
   },
   "file_extension": ".py",
   "mimetype": "text/x-python",
   "name": "python",
   "nbconvert_exporter": "python",
   "pygments_lexer": "ipython3",
   "version": "3.7.3"
  }
 },
 "nbformat": 4,
 "nbformat_minor": 4
}
